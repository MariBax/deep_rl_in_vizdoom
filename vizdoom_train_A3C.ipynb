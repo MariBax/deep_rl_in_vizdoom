{
  "nbformat": 4,
  "nbformat_minor": 0,
  "metadata": {
    "colab": {
      "name": "vizdoom_train_A3C.ipynb",
      "provenance": [],
      "collapsed_sections": []
    },
    "kernelspec": {
      "name": "python3",
      "display_name": "Python 3"
    },
    "accelerator": "GPU"
  },
  "cells": [
    {
      "cell_type": "markdown",
      "metadata": {
        "id": "U2IcVc-u1HX0",
        "colab_type": "text"
      },
      "source": [
        "## How ro run VizDoom on Colab\n",
        "\n",
        "#### The code is taken from:\n",
        "\n",
        "https://www.kaggle.com/c/108-1-dl-app-hw3/data"
      ]
    },
    {
      "cell_type": "code",
      "metadata": {
        "id": "qjcIa4MqRo_t",
        "colab_type": "code",
        "colab": {}
      },
      "source": [
        "%%bash\n",
        "# Install deps from \n",
        "# https://github.com/mwydmuch/ViZDoom/blob/master/doc/Building.md#-linux\n",
        "\n",
        "apt-get install build-essential zlib1g-dev libsdl2-dev libjpeg-dev \\\n",
        "nasm tar libbz2-dev libgtk2.0-dev cmake git libfluidsynth-dev libgme-dev \\\n",
        "libopenal-dev timidity libwildmidi-dev unzip\n",
        "\n",
        "# Boost libraries\n",
        "apt-get install libboost-all-dev\n",
        "\n",
        "# Lua binding dependencies\n",
        "apt-get install liblua5.1-dev"
      ],
      "execution_count": null,
      "outputs": []
    },
    {
      "cell_type": "code",
      "metadata": {
        "id": "sXvh-fMSSmfh",
        "colab_type": "code",
        "colab": {}
      },
      "source": [
        "!pip install vizdoom"
      ],
      "execution_count": null,
      "outputs": []
    },
    {
      "cell_type": "code",
      "metadata": {
        "id": "dHRjZPMSKfZe",
        "colab_type": "code",
        "colab": {}
      },
      "source": [
        "!pip install tensorflow==1.15"
      ],
      "execution_count": null,
      "outputs": []
    },
    {
      "cell_type": "code",
      "metadata": {
        "id": "3CQT5DZ8K_5U",
        "colab_type": "code",
        "colab": {}
      },
      "source": [
        "# import tensorflow"
      ],
      "execution_count": null,
      "outputs": []
    },
    {
      "cell_type": "code",
      "metadata": {
        "id": "Dy-7Gv8QK8w-",
        "colab_type": "code",
        "colab": {}
      },
      "source": [
        "# tensorflow.__version__"
      ],
      "execution_count": null,
      "outputs": []
    },
    {
      "cell_type": "code",
      "metadata": {
        "id": "qsxYZmdUMTDo",
        "colab_type": "code",
        "colab": {}
      },
      "source": [
        "pip install scipy==1.2.2"
      ],
      "execution_count": null,
      "outputs": []
    },
    {
      "cell_type": "code",
      "metadata": {
        "id": "WgXyrvw0UEqb",
        "colab_type": "code",
        "colab": {}
      },
      "source": [
        "from vizdoom import *"
      ],
      "execution_count": null,
      "outputs": []
    },
    {
      "cell_type": "code",
      "metadata": {
        "id": "KXKAwoQVUIud",
        "colab_type": "code",
        "colab": {}
      },
      "source": [
        "from google.colab import drive\n",
        "drive.mount('/content/drive', force_remount=True)"
      ],
      "execution_count": null,
      "outputs": []
    },
    {
      "cell_type": "code",
      "metadata": {
        "id": "EOqJ_XMDXlAT",
        "colab_type": "code",
        "colab": {}
      },
      "source": [
        "!ls"
      ],
      "execution_count": null,
      "outputs": []
    },
    {
      "cell_type": "code",
      "metadata": {
        "id": "ilVISEfrXlG0",
        "colab_type": "code",
        "colab": {}
      },
      "source": [
        "%cd drive/My Drive/VIZDOOM/A3C\n",
        "# %cd drive/My Drive/VIZDOOM/A3C_Cur"
      ],
      "execution_count": null,
      "outputs": []
    },
    {
      "cell_type": "code",
      "metadata": {
        "id": "lpqWj6RMXlLR",
        "colab_type": "code",
        "colab": {}
      },
      "source": [
        "!ls"
      ],
      "execution_count": null,
      "outputs": []
    },
    {
      "cell_type": "code",
      "metadata": {
        "id": "hSF6ktOfMvw6",
        "colab_type": "code",
        "colab": {}
      },
      "source": [
        "# A3C\n",
        "!python main.py --use_curiosity --scenario defend_the_center --actions all --num_workers 12 --max_episodes 1000"
      ],
      "execution_count": null,
      "outputs": []
    },
    {
      "cell_type": "code",
      "metadata": {
        "id": "baG61WyjI18a",
        "colab_type": "code",
        "colab": {}
      },
      "source": [
        "# Curiosity\n",
        "!python main.py --scenario defend_the_center --actions all --num_workers 12 --max_episodes 600 --load_model"
      ],
      "execution_count": null,
      "outputs": []
    },
    {
      "cell_type": "code",
      "metadata": {
        "id": "JEXprlrEOAZC",
        "colab_type": "code",
        "colab": {}
      },
      "source": [
        "%load_ext tensorboard\n",
        "%tensorboard --logdir saves/summary/defend_the_center\n",
        "# %tensorboard --logdir saves/summary/defend_the_center_curiosity"
      ],
      "execution_count": null,
      "outputs": []
    }
  ]
}